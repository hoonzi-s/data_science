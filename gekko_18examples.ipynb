{
  "cells": [
    {
      "cell_type": "markdown",
      "metadata": {
        "id": "view-in-github",
        "colab_type": "text"
      },
      "source": [
        "<a href=\"https://colab.research.google.com/github/hoonzi-s/data_science/blob/master/gekko_18examples.ipynb\" target=\"_parent\"><img src=\"https://colab.research.google.com/assets/colab-badge.svg\" alt=\"Open In Colab\"/></a>"
      ]
    },
    {
      "cell_type": "markdown",
      "metadata": {
        "id": "zzkEMuGAO74J"
      },
      "source": [
        "## GEKKO Python Example Applications\n",
        "\n",
        "![GEKKO Optimization Suite](http://apmonitor.com/wiki/uploads/Main/gekko_optimization.png)\n",
        "\n",
        "GEKKO is optimization software for mixed-integer and differential algebraic equations. It is coupled with large-scale solvers for linear, quadratic, nonlinear, and mixed integer programming (LP, QP, NLP, MILP, MINLP). Modes of operation include data reconciliation, real-time optimization, dynamic simulation, and nonlinear predictive control. See the [GEKKO documentation](http://gekko.readthedocs.io/en/latest/overview.html) for additional information.\n",
        "\n",
        "1. Solver Selection\n",
        "2. Solve Linear Equations\n",
        "3. Solve Nonlinear Equations\n",
        "4. Interpolation with Cubic Spline\n",
        "5. Linear and Polynomial Regression\n",
        "6. Nonlinear Regression\n",
        "7. Machine Learning / Artificial Neural Network\n",
        "8. Solve Differential Equation(s)\n",
        "9. Nonlinear Programming Optimization\n",
        "10. Mixed Integer Nonlinear Programming\n",
        "11. Optimal Control with Integral Objective\n",
        "12. Optimal Control with Economic Objective\n",
        "13. Optimal Control: Minimize Final Time\n",
        "14. PID Control Tuning\n",
        "15. Process Simulator\n",
        "16. Moving Horizon Estimation\n",
        "17. Model Predictive Control\n",
        "18. Debugging Resources"
      ]
    },
    {
      "cell_type": "code",
      "execution_count": 1,
      "metadata": {
        "colab": {
          "base_uri": "https://localhost:8080/"
        },
        "id": "XU8sm3BCO74M",
        "outputId": "95ed57be-686b-4ee5-eb33-8f93c4d212f7"
      },
      "outputs": [
        {
          "output_type": "stream",
          "name": "stdout",
          "text": [
            "Looking in indexes: https://pypi.org/simple, https://us-python.pkg.dev/colab-wheels/public/simple/\n",
            "Collecting gekko\n",
            "  Downloading gekko-1.0.4-py3-none-any.whl (14.1 MB)\n",
            "\u001b[K     |████████████████████████████████| 14.1 MB 7.1 MB/s \n",
            "\u001b[?25hRequirement already satisfied: numpy>=1.8 in /usr/local/lib/python3.7/dist-packages (from gekko) (1.21.6)\n",
            "Installing collected packages: gekko\n",
            "Successfully installed gekko-1.0.4\n",
            "Name: gekko\n",
            "Version: 1.0.4\n",
            "Summary: Machine learning and optimization for dynamic systems\n",
            "Home-page: https://github.com/BYU-PRISM/GEKKO\n",
            "Author: BYU PRISM Lab\n",
            "Author-email: john_hedengren@byu.edu\n",
            "License: MIT\n",
            "Location: /usr/local/lib/python3.7/dist-packages\n",
            "Requires: numpy\n",
            "Required-by: \n"
          ]
        }
      ],
      "source": [
        "try:\n",
        "    # import gekko if installed\n",
        "    from gekko import GEKKO\n",
        "except:\n",
        "    # install gekko if error on try\n",
        "    !pip install gekko\n",
        "    from gekko import GEKKO\n",
        "\n",
        "# package information\n",
        "!pip show gekko\n",
        "\n",
        "# upgrade GEKKO to latest version\n",
        "# !pip install --upgrade gekko"
      ]
    },
    {
      "cell_type": "markdown",
      "metadata": {
        "id": "gtcthRKyO74O"
      },
      "source": [
        "## 1: Solver selection\n",
        "\n",
        "Solve $y^2=1$ with APOPT solver. See [APMonitor documentation](https://apmonitor.com/wiki/index.php/Main/OptionApmSolver) or [GEKKO documentation](http://gekko.readthedocs.io/en/latest/global.html?highlight=solver#solver) for additional solver options."
      ]
    },
    {
      "cell_type": "code",
      "execution_count": 20,
      "metadata": {
        "colab": {
          "base_uri": "https://localhost:8080/"
        },
        "id": "2hWw-B0YO74O",
        "outputId": "4c4383e1-e5a1-4f2d-a0c2-cfdb84d481fd"
      },
      "outputs": [
        {
          "output_type": "stream",
          "name": "stdout",
          "text": [
            "y:  [-1.0000000465]\n"
          ]
        }
      ],
      "source": [
        "m = GEKKO()           # create GEKKO model\n",
        "y = m.Var(value=-2)    # define new variable, initial value=2\n",
        "m.Equation(y**2==1)   # define new equation\n",
        "m.options.SOLVER=1   # change solver (1=APOPT,3=IPOPT)\n",
        "\n",
        "m.solve(disp=False)   # solve locally (remote=False)\n",
        "print('y: ', y.value) # print variable value"
      ]
    },
    {
      "cell_type": "markdown",
      "metadata": {
        "id": "1Gr_2xxZO74P"
      },
      "source": [
        "## 2: Solve Linear Equations\n",
        "\n",
        "$3\\,x + 2\\,y=1$\n",
        "\n",
        "$x+2\\,y=0$"
      ]
    },
    {
      "cell_type": "code",
      "execution_count": null,
      "metadata": {
        "id": "1xsKVs4wO74P"
      },
      "outputs": [],
      "source": [
        "m = GEKKO()            # create GEKKO model\n",
        "x = m.Var()            # define new variable, default=0\n",
        "y = m.Var()            # define new variable, default=0\n",
        "m.Equations([3*x+2*y==1, x+2*y==0])  # equations\n",
        "\n",
        "m.solve(disp=False)    # solve\n",
        "print(x.value,y.value) # print solution"
      ]
    },
    {
      "cell_type": "markdown",
      "metadata": {
        "id": "ua9qRMMBO74P"
      },
      "source": [
        "## 3: Solve Nonlinear Equations\n",
        "\n",
        "$x+2\\,y=0$\n",
        "\n",
        "$x^2+y^2=1$"
      ]
    },
    {
      "cell_type": "code",
      "source": [
        "m = GEKKO()\n",
        "x = m.Var(value = 1)\n",
        "y = m.Var(value = 1)\n",
        "m.Equations([x + 2*y == 0, x**2 + y**2 == 1])\n",
        "m.solve(disp = False)\n",
        "print(x.value, y.value)"
      ],
      "metadata": {
        "id": "qcsF26TFfyeU",
        "outputId": "7e798ad3-9033-40df-c7f7-c76ca2cbf9b5",
        "colab": {
          "base_uri": "https://localhost:8080/"
        }
      },
      "execution_count": 22,
      "outputs": [
        {
          "output_type": "stream",
          "name": "stdout",
          "text": [
            "[0.894427191] [-0.4472135955]\n"
          ]
        }
      ]
    },
    {
      "cell_type": "code",
      "execution_count": 19,
      "metadata": {
        "colab": {
          "base_uri": "https://localhost:8080/"
        },
        "id": "OuAdd_TdO74Q",
        "outputId": "2128b257-80d4-447f-8d3e-7cd0e9eab36a"
      },
      "outputs": [
        {
          "output_type": "stream",
          "name": "stdout",
          "text": [
            "[[-0.89442724267], [0.44721362133]]\n"
          ]
        }
      ],
      "source": [
        "m = GEKKO()             # create GEKKO model\n",
        "x = m.Var(value=0)      # define new variable, initial value=0\n",
        "y = m.Var(value=1)      # define new variable, initial value=1\n",
        "m.Equations([x + 2*y==0, x**2+y**2==1]) # equations\n",
        "m.solve(disp=False)     # solve\n",
        "# print([x.value[0],y.value[0]]) # print solution\n",
        "print([x.value, y.value]) # print solution"
      ]
    },
    {
      "cell_type": "markdown",
      "metadata": {
        "id": "4vEROZ_dO74Q"
      },
      "source": [
        "## 4: Interpolation with Cubic Spline\n"
      ]
    },
    {
      "cell_type": "code",
      "execution_count": null,
      "metadata": {
        "id": "W7VRDn3pO74R"
      },
      "outputs": [],
      "source": [
        ""
      ]
    },
    {
      "cell_type": "markdown",
      "metadata": {
        "id": "yJnTyQ-CO74R"
      },
      "source": [
        "## 5: Linear and Polynomial Regression"
      ]
    },
    {
      "cell_type": "code",
      "execution_count": null,
      "metadata": {
        "scrolled": true,
        "id": "k-c1CNDxO74R"
      },
      "outputs": [],
      "source": [
        ""
      ]
    },
    {
      "cell_type": "markdown",
      "metadata": {
        "id": "aR_swSaRO74S"
      },
      "source": [
        "## 6: Nonlinear Regression"
      ]
    },
    {
      "cell_type": "code",
      "execution_count": null,
      "metadata": {
        "id": "Q4mhiW3kO74S"
      },
      "outputs": [],
      "source": [
        ""
      ]
    },
    {
      "cell_type": "markdown",
      "metadata": {
        "id": "3UfeLkJ8O74S"
      },
      "source": [
        "## 7: Machine Learning\n",
        "\n",
        "Approximate $y = sin(x)$ with an Artificial Neural Network\n",
        "\n",
        "__Trigonometric Function (select=True)__\n",
        "\n",
        "* Input: $x$\n",
        "* Layer 1: linear layer, 1 node, $l1 = w1 \\; x$\n",
        "* Layer 2: nonlinear layer, 1 node, cosine function, $l2 = \\cos(w2a+w2b\\;l1)$\n",
        "* Layer 3: linear layer, 1 node, $l3 = w3 \\; l2$\n",
        "* Output: $y = \\sum{l3}$\n",
        "\n",
        "__Artificial Neural Network Description (select=False)__\n",
        "\n",
        "* Input: $x$\n",
        "* Layer 1: linear layer, 2 nodes, $l1 = w1 \\; x$\n",
        "* Layer 2: nonlinear layer, 3 nodes, hyperbolic tangent activation function, $l2 = \\tanh(w2a+w2b\\;l1)$\n",
        "* Layer 3: linear layer, 2 nodes, $l3 = w3 \\; l2$\n",
        "* Output: $y = \\sum{l3}$\n",
        "\n",
        "See [Online Neural Network Demo](https://playground.tensorflow.org) with TensorFlow."
      ]
    },
    {
      "cell_type": "code",
      "execution_count": null,
      "metadata": {
        "id": "dSxrkUVLO74S"
      },
      "outputs": [],
      "source": [
        ""
      ]
    },
    {
      "cell_type": "markdown",
      "metadata": {
        "id": "LQuJO1dnO74T"
      },
      "source": [
        "## 8: Solve Differential Equation(s)\n",
        "\n",
        "Solve the following differential equation with initial condition $y(0) = 5$:\n",
        "\n",
        "$ k \\, \\frac{dy}{dt} = -t \\, y$\n",
        "\n",
        "where $k=10$. The solution of $y(t)$ should be reported from an initial time $0$ to final time $20$. Create of plot of the result for $y(t)$ versus $t$. "
      ]
    },
    {
      "cell_type": "code",
      "execution_count": null,
      "metadata": {
        "id": "JQ8qOsMUO74T"
      },
      "outputs": [],
      "source": [
        ""
      ]
    },
    {
      "cell_type": "markdown",
      "metadata": {
        "id": "FSYC-JhIO74T"
      },
      "source": [
        "## 9: Nonlinear Programming Optimization\n",
        "\n",
        "Solve the following nonlinear optimization problem:\n",
        "\n",
        "$\\min x_1 x_4 \\left(x_1 + x_2 + x_3\\right) + x_3$\n",
        "\n",
        "$\\mathrm{s.t.} \\quad x_1 x_2 x_3 x_4 \\ge 25$\n",
        "\n",
        "$x_1^2 + x_2^2 + x_3^2 + x_4^2 = 40$\n",
        "\n",
        "$1\\le x_1, x_2, x_3, x_4 \\le 5$\n",
        "\n",
        "with initial conditions:\n",
        "\n",
        "$x_0 = (1,5,5,1)$\n"
      ]
    },
    {
      "cell_type": "code",
      "execution_count": null,
      "metadata": {
        "id": "TMb_LTBoO74T"
      },
      "outputs": [],
      "source": [
        ""
      ]
    },
    {
      "cell_type": "markdown",
      "metadata": {
        "id": "7qxtivv-O74U"
      },
      "source": [
        "## 10: Mixed Integer Nonlinear Programming"
      ]
    },
    {
      "cell_type": "code",
      "execution_count": null,
      "metadata": {
        "id": "uwuS65xNO74U"
      },
      "outputs": [],
      "source": [
        ""
      ]
    },
    {
      "cell_type": "markdown",
      "metadata": {
        "id": "s9E4MiiHO74U"
      },
      "source": [
        "## 11: Optimal Control with Integral Objective\n",
        "\n",
        "__Original Form__\n",
        "\n",
        "$\\min_u \\frac{1}{2} \\int_0^2 x_1^2(t) \\, dt$\n",
        "\n",
        "$\\mathrm{subject \\; to}$\n",
        "\n",
        "$\\frac{dx_1}{dt}=u$\n",
        "\n",
        "$x_1(0) = 1$\n",
        "\n",
        "$-1 \\le u(t) \\le 1$\n",
        "\n",
        "__Equivalent Form for GEKKO with new Variable $x_2$__\n",
        "\n",
        "$\\min_u x_2\\left(t_f\\right)$\n",
        "\n",
        "$\\mathrm{subject \\; to}$\n",
        "\n",
        "$\\frac{dx_1}{dt}=u$\n",
        "\n",
        "$\\frac{dx_2}{dt} = \\frac{1}{2} x_1^2(t)$\n",
        "\n",
        "$x_1(0) = 1$\n",
        "\n",
        "$x_2(0) = 0$\n",
        "\n",
        "$t_f = 2$\n",
        "\n",
        "$-1 \\le u(t) \\le 1$"
      ]
    },
    {
      "cell_type": "code",
      "execution_count": null,
      "metadata": {
        "id": "aBY85vlyO74U"
      },
      "outputs": [],
      "source": [
        ""
      ]
    },
    {
      "cell_type": "markdown",
      "metadata": {
        "id": "ZXRpzfG8O74U"
      },
      "source": [
        "## 12: Optimal Control with Economic Objective\n",
        "\n",
        "__Original Form__\n",
        "\n",
        "$\\max_{u(t)} \\int_0^{10} \\left(E-\\frac{c}{x}\\right) u \\, U_{max} \\, dt$\n",
        "\n",
        "$\\mathrm{subject \\; to}$\n",
        "\n",
        "$\\frac{dx}{dt}=r \\, x(t) \\left(1-\\frac{x(t)}{k}\\right)-u \\, U_{max}$\n",
        "\n",
        "$x(0) = 70$\n",
        "\n",
        "$0 \\le u(t) \\le 1$\n",
        "\n",
        "$E=1, \\, c=17.5, \\, r=0.71$\n",
        "\n",
        "$k=80.5, \\, U_{max}=20$\n",
        "\n",
        "__Equivalent Form for GEKKO__\n",
        "\n",
        "$\\min_{u(t)} -J\\left(t_f\\right)$\n",
        "\n",
        "$\\mathrm{subject \\; to}$\n",
        "\n",
        "$\\frac{dx}{dt}=r \\, x(t) \\left(1-\\frac{x(t)}{k}\\right)-u \\, U_{max}$\n",
        "\n",
        "$\\frac{dJ}{dt} = \\left(E-\\frac{c}{x}\\right) u \\, U_{max}$\n",
        "\n",
        "$x(0) = 70$\n",
        "\n",
        "$J(0) = 0$\n",
        "\n",
        "$0 \\le u(t) \\le 1$\n",
        "\n",
        "$t_f = 10, \\, E=1, \\, c=17.5$\n",
        "\n",
        "$r=0.71, \\, k=80.5, \\, U_{max}=20$"
      ]
    },
    {
      "cell_type": "code",
      "execution_count": null,
      "metadata": {
        "id": "IOIm_qAPO74V"
      },
      "outputs": [],
      "source": [
        ""
      ]
    },
    {
      "cell_type": "markdown",
      "metadata": {
        "id": "A7l3wkcVO74V"
      },
      "source": [
        "## 13: Optimal Control: Minimize Final Time\n",
        "\n",
        "__Original Form__\n",
        "\n",
        "$\\min_{u(t)} \\; t_f$\n",
        "\n",
        "$\\mathrm{subject \\; to}$\n",
        "\n",
        "$\\frac{dx_1}{dt}=u$\n",
        "\n",
        "$\\frac{dx_2}{dt}=\\cos\\left(x_1(t)\\right)$\n",
        "\n",
        "$\\frac{dx_3}{dt}=\\sin\\left(x_1(t)\\right)$\n",
        "\n",
        "$x(0) = \\left[\\pi/2,4,0\\right]$\n",
        "\n",
        "$x_2\\left(t_f\\right)=0$\n",
        "\n",
        "$x_3\\left(t_f\\right)=0$\n",
        "\n",
        "$-2 \\le u(t) \\le 2$\n",
        "\n",
        "__Equivalent Form for GEKKO__\n",
        "\n",
        "$\\min_{u(t), t_f} \\; t_f$\n",
        "\n",
        "$\\mathrm{subject \\; to}$\n",
        "\n",
        "$\\frac{dx_1}{dt}=t_f \\, u$\n",
        "\n",
        "$\\frac{dx_2}{dt}=t_f \\, \\cos\\left(x_1(t)\\right)$\n",
        "\n",
        "$\\frac{dx_3}{dt}=t_f \\, \\sin\\left(x_1(t)\\right)$\n",
        "\n",
        "$x(0) = \\left[\\pi/2,4,0\\right]$\n",
        "\n",
        "$x_2\\left(t_f\\right)=0$\n",
        "\n",
        "$x_3\\left(t_f\\right)=0$\n",
        "\n",
        "$-2 \\le u(t) \\le 2$"
      ]
    },
    {
      "cell_type": "code",
      "execution_count": null,
      "metadata": {
        "id": "PRLy2Zu0O74V"
      },
      "outputs": [],
      "source": [
        ""
      ]
    },
    {
      "cell_type": "markdown",
      "metadata": {
        "id": "-uzPJoD2O74V"
      },
      "source": [
        "## 14: PID Control Tuning\n",
        "\n",
        "A [PID Controller](https://en.wikipedia.org/wiki/PID_controller) has proportional, integral, and derivative terms to determine the controller output ($OP$) based on the set point ($SP$) and process variable ($PV$). A standard PID form has constants $K_c$, $\\tau_I$, and $\\tau_D$.\n",
        "\n",
        "\n",
        "$err = SP-PV$\n",
        "\n",
        "$OP = OP_0 + K_c \\, err + \\frac{K_c}{\\tau_I} \\int err \\, dt - K_c \\, \\tau_D \\frac{d\\,PV}{dt}$ \n",
        "\n",
        "The effect of the tuning constants is shown with the [PID Tuning Notebook](http://nbviewer.jupyter.org/url/apmonitor.com/pdc/uploads/Main/pid_widget.ipynb). This example is an alternative implementation in GEKKO."
      ]
    },
    {
      "cell_type": "code",
      "execution_count": null,
      "metadata": {
        "id": "TeSJlQtwO74W"
      },
      "outputs": [],
      "source": [
        ""
      ]
    },
    {
      "cell_type": "markdown",
      "metadata": {
        "id": "TRbbsB5_O74W"
      },
      "source": [
        "## 15: Process Simulator"
      ]
    },
    {
      "cell_type": "code",
      "execution_count": null,
      "metadata": {
        "id": "wQm6-CFDO74W"
      },
      "outputs": [],
      "source": [
        ""
      ]
    },
    {
      "cell_type": "markdown",
      "metadata": {
        "id": "WjxAP6ttO74W"
      },
      "source": [
        "## 16: Moving Horizon Estimation\n",
        "\n",
        "Run the Process Simulation cell above to generate the data. The MHE application uses a first order model while the process simulation is a second order system. This is done to emulate a realistic case with model mismatch and measurement noise.\n",
        "\n",
        "This demonstrates just one cycle of an MHE application. Typical MHE applications receive an additional measurements, re-optimize parameters and states, and re-inject the parameters into a controller. "
      ]
    },
    {
      "cell_type": "code",
      "execution_count": null,
      "metadata": {
        "id": "ZkRMKN-bO74W"
      },
      "outputs": [],
      "source": [
        ""
      ]
    },
    {
      "cell_type": "markdown",
      "metadata": {
        "id": "7xtohf5pO74W"
      },
      "source": [
        "## 17: Model Predictive Control"
      ]
    },
    {
      "cell_type": "code",
      "execution_count": null,
      "metadata": {
        "id": "FagSBG-KO74X"
      },
      "outputs": [],
      "source": [
        ""
      ]
    },
    {
      "cell_type": "markdown",
      "metadata": {
        "id": "Y-OCzzMEO74X"
      },
      "source": [
        "## 18: Debugging Resources\n",
        "\n",
        "Applications may need a more detailed inspection to find errors in programming syntax, errors in modeling assumptions, or to generate good initial guess values. The GEKKO or the solver solution reports syntax errors. Setting m.solve(disp=True) displays the solver output with a message on the line of code that is unsuccessful. Naming the variables such as name='state' is helpful to display the equations in a readable form.\n",
        "\n",
        "Other strategies for obtaining a successful solution include:\n",
        "\n",
        "* Increase the number of iterations with MAX_ITER (0-1000+)\n",
        "* Increase the diagnostic level with DIAGLEVEL (0-10)\n",
        "* Change the solver with SOLVER (1-5)\n",
        "* Calculate model SENSITIVITY (1)\n",
        "* Solve a square problem with # Variables = # Equations\n",
        "* Set COLDSTART to initialize problem (0-2)\n",
        "\n",
        "Additional [modeling](http://apmonitor.com/do/index.php/Main/ModelFormulation), [initialization](http://apmonitor.com/do/index.php/Main/ModelInitialization), and [decomposition](https://www.sciencedirect.com/science/article/pii/S0098135415001179) tips may be helpful. There is also an online [discussion group](http://apmonitor.com/wiki/index.php/Main/UsersGroup), [video playlist](https://www.youtube.com/playlist?list=PLLBUgWXdTBDjcqDl2e5F_hcBjEc6vjr1X), [GEKKO documentation](http://gekko.readthedocs.io/en/latest/), and [APMonitor documentation](http://apmonitor.com/wiki/index.php/Main/HomePage) as additional resources."
      ]
    },
    {
      "cell_type": "code",
      "execution_count": null,
      "metadata": {
        "id": "RTUJ4X-cO74X"
      },
      "outputs": [],
      "source": [
        ""
      ]
    }
  ],
  "metadata": {
    "kernelspec": {
      "display_name": "Python 3",
      "language": "python",
      "name": "python3"
    },
    "language_info": {
      "codemirror_mode": {
        "name": "ipython",
        "version": 3
      },
      "file_extension": ".py",
      "mimetype": "text/x-python",
      "name": "python",
      "nbconvert_exporter": "python",
      "pygments_lexer": "ipython3",
      "version": "3.8.5"
    },
    "colab": {
      "name": "gekko_18examples.ipynb",
      "provenance": [],
      "include_colab_link": true
    }
  },
  "nbformat": 4,
  "nbformat_minor": 0
}