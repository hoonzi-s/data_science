{
  "cells": [
    {
      "cell_type": "markdown",
      "metadata": {
        "id": "view-in-github",
        "colab_type": "text"
      },
      "source": [
        "<a href=\"https://colab.research.google.com/github/hoonzi-s/data_science/blob/master/examples/gekko_18examples.ipynb\" target=\"_parent\"><img src=\"https://colab.research.google.com/assets/colab-badge.svg\" alt=\"Open In Colab\"/></a>"
      ]
    },
    {
      "cell_type": "markdown",
      "metadata": {
        "id": "zzkEMuGAO74J"
      },
      "source": [
        "## GEKKO Python Example Applications\n",
        "\n",
        "![GEKKO Optimization Suite](http://apmonitor.com/wiki/uploads/Main/gekko_optimization.png)\n",
        "\n",
        "GEKKO is optimization software for mixed-integer and differential algebraic equations. It is coupled with large-scale solvers for linear, quadratic, nonlinear, and mixed integer programming (LP, QP, NLP, MILP, MINLP). Modes of operation include data reconciliation, real-time optimization, dynamic simulation, and nonlinear predictive control. See the [GEKKO documentation](http://gekko.readthedocs.io/en/latest/overview.html) for additional information.\n",
        "\n",
        "1. Solver Selection\n",
        "2. Solve Linear Equations\n",
        "3. Solve Nonlinear Equations\n",
        "4. Interpolation with Cubic Spline\n",
        "5. Linear and Polynomial Regression\n",
        "6. Nonlinear Regression\n",
        "7. Machine Learning / Artificial Neural Network\n",
        "8. Solve Differential Equation(s)\n",
        "9. Nonlinear Programming Optimization\n",
        "10. Mixed Integer Nonlinear Programming\n",
        "11. Optimal Control with Integral Objective\n",
        "12. Optimal Control with Economic Objective\n",
        "13. Optimal Control: Minimize Final Time\n",
        "14. PID Control Tuning\n",
        "15. Process Simulator\n",
        "16. Moving Horizon Estimation\n",
        "17. Model Predictive Control\n",
        "18. Debugging Resources"
      ]
    },
    {
      "cell_type": "code",
      "execution_count": 1,
      "metadata": {
        "colab": {
          "base_uri": "https://localhost:8080/"
        },
        "id": "XU8sm3BCO74M",
        "outputId": "36930f66-031b-467b-e705-27044104493c"
      },
      "outputs": [
        {
          "output_type": "stream",
          "name": "stdout",
          "text": [
            "Looking in indexes: https://pypi.org/simple, https://us-python.pkg.dev/colab-wheels/public/simple/\n",
            "Collecting gekko\n",
            "  Downloading gekko-1.0.4-py3-none-any.whl (14.1 MB)\n",
            "\u001b[K     |████████████████████████████████| 14.1 MB 4.8 MB/s \n",
            "\u001b[?25hRequirement already satisfied: numpy>=1.8 in /usr/local/lib/python3.7/dist-packages (from gekko) (1.21.6)\n",
            "Installing collected packages: gekko\n",
            "Successfully installed gekko-1.0.4\n",
            "Name: gekko\n",
            "Version: 1.0.4\n",
            "Summary: Machine learning and optimization for dynamic systems\n",
            "Home-page: https://github.com/BYU-PRISM/GEKKO\n",
            "Author: BYU PRISM Lab\n",
            "Author-email: john_hedengren@byu.edu\n",
            "License: MIT\n",
            "Location: /usr/local/lib/python3.7/dist-packages\n",
            "Requires: numpy\n",
            "Required-by: \n"
          ]
        }
      ],
      "source": [
        "try:\n",
        "    # import gekko if installed\n",
        "    from gekko import GEKKO\n",
        "except:\n",
        "    # install gekko if error on try\n",
        "    !pip install gekko\n",
        "    from gekko import GEKKO\n",
        "\n",
        "# package information\n",
        "!pip show gekko\n",
        "\n",
        "# upgrade GEKKO to latest version\n",
        "# !pip install --upgrade gekko"
      ]
    },
    {
      "cell_type": "markdown",
      "metadata": {
        "id": "gtcthRKyO74O"
      },
      "source": [
        "## 1: Solver selection\n",
        "\n",
        "Solve $y^2=1$ with APOPT solver. See [APMonitor documentation](https://apmonitor.com/wiki/index.php/Main/OptionApmSolver) or [GEKKO documentation](http://gekko.readthedocs.io/en/latest/global.html?highlight=solver#solver) for additional solver options."
      ]
    },
    {
      "cell_type": "code",
      "execution_count": 2,
      "metadata": {
        "colab": {
          "base_uri": "https://localhost:8080/"
        },
        "id": "2hWw-B0YO74O",
        "outputId": "030710dd-569b-4739-c72a-c4ede40d50fd"
      },
      "outputs": [
        {
          "output_type": "stream",
          "name": "stdout",
          "text": [
            "y:  [-1.0000000465]\n"
          ]
        }
      ],
      "source": [
        "m = GEKKO()           # create GEKKO model\n",
        "y = m.Var(value=-2)    # define new variable, initial value=2\n",
        "m.Equation(y**2==1)   # define new equation\n",
        "m.options.SOLVER=1   # change solver (1=APOPT,3=IPOPT)\n",
        "\n",
        "m.solve(disp=False)   # solve locally (remote=False)\n",
        "print('y: ', y.value) # print variable value"
      ]
    },
    {
      "cell_type": "markdown",
      "metadata": {
        "id": "1Gr_2xxZO74P"
      },
      "source": [
        "## 2: Solve Linear Equations\n",
        "\n",
        "$3\\,x + 2\\,y=1$\n",
        "\n",
        "$x+2\\,y=0$"
      ]
    },
    {
      "cell_type": "code",
      "execution_count": 3,
      "metadata": {
        "colab": {
          "base_uri": "https://localhost:8080/"
        },
        "id": "1xsKVs4wO74P",
        "outputId": "f295144f-b09a-48d9-be42-5e4d19ec61fe"
      },
      "outputs": [
        {
          "output_type": "stream",
          "name": "stdout",
          "text": [
            "[0.5] [-0.25]\n"
          ]
        }
      ],
      "source": [
        "m = GEKKO()            # create GEKKO model\n",
        "\n",
        "x, y = m.Array(m.Var, 2)\n",
        "# z = m.Array(m.Var, (5, 3))\n",
        "\n",
        "m.Equation(3*x+2*y==1)\n",
        "m.Equation(x + 2*y == 0)\n",
        "\n",
        "m.solve(disp=False)    # solve\n",
        "print(x.value,y.value) # print solution"
      ]
    },
    {
      "cell_type": "markdown",
      "metadata": {
        "id": "ua9qRMMBO74P"
      },
      "source": [
        "## 3: Solve Nonlinear Equations\n",
        "\n",
        "$x+2\\,y=0$\n",
        "\n",
        "$x^2+y^2=1$"
      ]
    },
    {
      "cell_type": "code",
      "source": [
        "m = GEKKO()            # create GEKKO model\n",
        "\n",
        "x, y = m.Array(m.Var, 2)\n",
        "x.value = -1\n",
        "y.value = 1\n",
        "\n",
        "m.Equation(x + 2*y == 0)\n",
        "m.Equation(x**2 + y**2 == 1)\n",
        "\n",
        "m.solve(disp=False)    # solve\n",
        "print(x.value, y.value) # print solution"
      ],
      "metadata": {
        "colab": {
          "base_uri": "https://localhost:8080/"
        },
        "id": "qcsF26TFfyeU",
        "outputId": "f6984d63-5f89-4b9d-c454-989f383ef8fa"
      },
      "execution_count": 4,
      "outputs": [
        {
          "output_type": "stream",
          "name": "stdout",
          "text": [
            "[-0.89442719117] [0.44721359558]\n"
          ]
        }
      ]
    },
    {
      "cell_type": "markdown",
      "metadata": {
        "id": "4vEROZ_dO74Q"
      },
      "source": [
        "## 4: Interpolation with Cubic Spline\n"
      ]
    },
    {
      "cell_type": "code",
      "execution_count": 5,
      "metadata": {
        "colab": {
          "base_uri": "https://localhost:8080/",
          "height": 283
        },
        "id": "W7VRDn3pO74R",
        "outputId": "b6732d8f-1259-4acc-c653-fd93cc38f800"
      },
      "outputs": [
        {
          "output_type": "execute_result",
          "data": {
            "text/plain": [
              "<matplotlib.legend.Legend at 0x7f37ba6f3550>"
            ]
          },
          "metadata": {},
          "execution_count": 5
        },
        {
          "output_type": "display_data",
          "data": {
            "text/plain": [
              "<Figure size 432x288 with 1 Axes>"
            ],
            "image/png": "[encoded data removed]"
          },
          "metadata": {
            "needs_background": "light"
          }
        }
      ],
      "source": [
        "import numpy as np\n",
        "import matplotlib.pyplot as plt\n",
        "\n",
        "xm = np.arange(0, 6)\n",
        "ym = np.array([0.1, 0.2, 0.3, 0.5, 1.0, 0.9])\n",
        "\n",
        "m = GEKKO()\n",
        "m.options.IMODE = 2\n",
        "x = m.Param(value = np.linspace(-1, 6))\n",
        "y = m.Var()\n",
        "m.cspline(x, y, xm, ym)\n",
        "m.solve(disp = False)\n",
        "\n",
        "plt.plot(xm, ym, 'bo')\n",
        "plt.plot(x.value, y.value, 'r--', label = 'cubic spline')\n",
        "plt.legend(loc = 'best')"
      ]
    },
    {
      "cell_type": "markdown",
      "metadata": {
        "id": "yJnTyQ-CO74R"
      },
      "source": [
        "## 5: Linear and Polynomial Regression"
      ]
    },
    {
      "cell_type": "code",
      "execution_count": 6,
      "metadata": {
        "scrolled": true,
        "id": "k-c1CNDxO74R",
        "outputId": "48ac07bd-924d-43cd-a704-81ac740278aa",
        "colab": {
          "base_uri": "https://localhost:8080/",
          "height": 193
        }
      },
      "outputs": [
        {
          "output_type": "error",
          "ename": "TypeError",
          "evalue": "ignored",
          "traceback": [
            "\u001b[0;31m---------------------------------------------------------------------------\u001b[0m",
            "\u001b[0;31mTypeError\u001b[0m                                 Traceback (most recent call last)",
            "\u001b[0;32m<ipython-input-6-f332d4def5f1>\u001b[0m in \u001b[0;36m<module>\u001b[0;34m()\u001b[0m\n\u001b[1;32m      1\u001b[0m \u001b[0mxm\u001b[0m \u001b[0;34m=\u001b[0m \u001b[0mnp\u001b[0m\u001b[0;34m.\u001b[0m\u001b[0marange\u001b[0m\u001b[0;34m(\u001b[0m\u001b[0;36m0\u001b[0m\u001b[0;34m,\u001b[0m \u001b[0;36m6\u001b[0m\u001b[0;34m)\u001b[0m\u001b[0;34m\u001b[0m\u001b[0;34m\u001b[0m\u001b[0m\n\u001b[0;32m----> 2\u001b[0;31m \u001b[0mym\u001b[0m \u001b[0;34m=\u001b[0m \u001b[0mnp\u001b[0m\u001b[0;34m.\u001b[0m\u001b[0marray\u001b[0m\u001b[0;34m(\u001b[0m\u001b[0;34m)\u001b[0m\u001b[0;34m\u001b[0m\u001b[0;34m\u001b[0m\u001b[0m\n\u001b[0m",
            "\u001b[0;31mTypeError\u001b[0m: array() missing required argument 'object' (pos 0)"
          ]
        }
      ],
      "source": [
        "xm = np.arange(0, 6)\n",
        "ym = np.array()"
      ]
    },
    {
      "cell_type": "markdown",
      "metadata": {
        "id": "aR_swSaRO74S"
      },
      "source": [
        "## 6: Nonlinear Regression"
      ]
    },
    {
      "cell_type": "code",
      "execution_count": 7,
      "metadata": {
        "colab": {
          "base_uri": "https://localhost:8080/",
          "height": 283
        },
        "id": "Q4mhiW3kO74S",
        "outputId": "0e4e7b61-3e9a-47a6-ffdd-f6595c7f1ce6"
      },
      "outputs": [
        {
          "output_type": "stream",
          "name": "stdout",
          "text": [
            "Optimized a = 0.59599971492\n"
          ]
        },
        {
          "output_type": "display_data",
          "data": {
            "text/plain": [
              "<Figure size 432x288 with 1 Axes>"
            ],
            "image/png": "[encoded data removed]"
          },
          "metadata": {
            "needs_background": "light"
          }
        }
      ],
      "source": [
        "xm = np.arange(0, 6)\n",
        "ym = np.array([0.1, 0.2, 2, 0.5, 0.8, 2.0])\n",
        "\n",
        "m = GEKKO()\n",
        "\n",
        "x = m.Param(value = xm)\n",
        "y = m.CV(value = ym)\n",
        "y.FSTATUS = 1\n",
        "\n",
        "a = m.FV()  # just one value only\n",
        "a.STATUS = 1\n",
        "\n",
        "# m.Minimize((y - z) ** 2)\n",
        "\n",
        "m.Equation(y == 0.1 * m.exp(a * x))\n",
        "\n",
        "m.options.IMODE = 2\n",
        "m.options.EV_TYPE = 2\n",
        "m.solve(disp = False)\n",
        "\n",
        "print('Optimized a =', a.value[0])\n",
        "\n",
        "plt.plot(xm, ym, 'bo', label = 'Data')\n",
        "plt.plot(xm, y.value, 'r-')\n",
        "plt.legend()\n",
        "plt.show()"
      ]
    },
    {
      "cell_type": "markdown",
      "metadata": {
        "id": "3UfeLkJ8O74S"
      },
      "source": [
        "## 7: Machine Learning\n",
        "\n",
        "Approximate $y = sin(x)$ with an Artificial Neural Network\n",
        "\n",
        "__Trigonometric Function (select=True)__\n",
        "\n",
        "* Input: $x$\n",
        "* Layer 1: linear layer, 1 node, $l1 = w1 \\; x$\n",
        "* Layer 2: nonlinear layer, 1 node, cosine function, $l2 = \\cos(w2a+w2b\\;l1)$\n",
        "* Layer 3: linear layer, 1 node, $l3 = w3 \\; l2$\n",
        "* Output: $y = \\sum{l3}$\n",
        "\n",
        "__Artificial Neural Network Description (select=False)__\n",
        "\n",
        "* Input: $x$\n",
        "* Layer 1: linear layer, 2 nodes, $l1 = w1 \\; x$\n",
        "* Layer 2: nonlinear layer, 3 nodes, hyperbolic tangent activation function, $l2 = \\tanh(w2a+w2b\\;l1)$\n",
        "* Layer 3: linear layer, 2 nodes, $l3 = w3 \\; l2$\n",
        "* Output: $y = \\sum{l3}$\n",
        "\n",
        "See [Online Neural Network Demo](https://playground.tensorflow.org) with TensorFlow."
      ]
    },
    {
      "cell_type": "code",
      "execution_count": 8,
      "metadata": {
        "colab": {
          "base_uri": "https://localhost:8080/",
          "height": 265
        },
        "id": "dSxrkUVLO74S",
        "outputId": "cb33a4cb-54a7-480f-b0d7-7532d885a78b"
      },
      "outputs": [
        {
          "output_type": "display_data",
          "data": {
            "text/plain": [
              "<Figure size 432x288 with 1 Axes>"
            ],
            "image/png": "[encoded data removed]"
          },
          "metadata": {
            "needs_background": "light"
          }
        }
      ],
      "source": [
        "from gekko import brain\n",
        "\n",
        "# generate training data\n",
        "x = np.linspace(0.0, 2*np.pi, 20)\n",
        "y = np.sin(x)\n",
        "\n",
        "x = np.array(x)\n",
        "y = np.array(y)\n",
        "\n",
        "b = brain.Brain()\n",
        "b.input_layer(1)\n",
        "b.layer(linear=2)\n",
        "b.layer(tanh=3)\n",
        "b.layer(linear=2)\n",
        "b.output_layer(1)\n",
        "\n",
        "b.learn(x, y, disp = False) # train\n",
        "xp = np.linspace(-2*np.pi,4*np.pi,100) \n",
        "yp = b.think(xp) # validate\n",
        "\n",
        "plt.figure()\n",
        "plt.plot(x,y,'bo')\n",
        "plt.plot(xp,yp[0],'r-')\n",
        "plt.show()"
      ]
    },
    {
      "cell_type": "markdown",
      "metadata": {
        "id": "LQuJO1dnO74T"
      },
      "source": [
        "## 8: Solve Differential Equation(s)\n",
        "\n",
        "Solve the following differential equation with initial condition $y(0) = 5$:\n",
        "\n",
        "$ k \\, \\frac{dy}{dt} = -y$\n",
        "\n",
        "where $k=10$. The solution of $y(t)$ should be reported from an initial time $0$ to final time $20$. Create of plot of the result for $y(t)$ versus $t$. "
      ]
    },
    {
      "cell_type": "code",
      "execution_count": 9,
      "metadata": {
        "colab": {
          "base_uri": "https://localhost:8080/",
          "height": 283
        },
        "id": "JQ8qOsMUO74T",
        "outputId": "fc11a09d-6d99-48a1-a57a-ce99125a8491"
      },
      "outputs": [
        {
          "output_type": "execute_result",
          "data": {
            "text/plain": [
              "[<matplotlib.lines.Line2D at 0x7f37ba08ed90>]"
            ]
          },
          "metadata": {},
          "execution_count": 9
        },
        {
          "output_type": "display_data",
          "data": {
            "text/plain": [
              "<Figure size 432x288 with 1 Axes>"
            ],
            "image/png": "[encoded data removed]"
          },
          "metadata": {
            "needs_background": "light"
          }
        }
      ],
      "source": [
        "m = GEKKO()\n",
        "k = 10\n",
        "y = m.Var(5)\n",
        "m.time = np.linspace(0, 50)\n",
        "m.Equation(k * y.dt() + y == 0)\n",
        "m.options.IMODE = 4\n",
        "m.solve(disp = False)\n",
        "\n",
        "plt.plot(m.time, y)"
      ]
    },
    {
      "cell_type": "markdown",
      "metadata": {
        "id": "FSYC-JhIO74T"
      },
      "source": [
        "## 9: Nonlinear Programming Optimization\n",
        "\n",
        "Solve the following nonlinear optimization problem:\n",
        "\n",
        "$\\min x_1 x_4 \\left(x_1 + x_2 + x_3\\right) + x_3$\n",
        "\n",
        "$\\mathrm{s.t.} \\quad x_1 x_2 x_3 x_4 \\ge 25$\n",
        "\n",
        "$x_1^2 + x_2^2 + x_3^2 + x_4^2 = 40$\n",
        "\n",
        "$1\\le x_1, x_2, x_3, x_4 \\le 5$\n",
        "\n",
        "with initial conditions:\n",
        "\n",
        "$x_0 = (1,5,5,1)$\n"
      ]
    },
    {
      "cell_type": "code",
      "execution_count": 10,
      "metadata": {
        "colab": {
          "base_uri": "https://localhost:8080/"
        },
        "id": "TMb_LTBoO74T",
        "outputId": "1640a946-2621-4683-f8f3-8d6df48329ac"
      },
      "outputs": [
        {
          "output_type": "stream",
          "name": "stdout",
          "text": [
            "Results\n",
            "x1: 1.000000057\n",
            "x2: 4.74299963\n",
            "x3: 3.8211500283\n",
            "x4: 1.3794081795\n",
            "Objective: 17.014017127\n"
          ]
        }
      ],
      "source": [
        "m = GEKKO()\n",
        "\n",
        "x = m.Array(m.Var, 4, lb = 1, ub = 5, value = 1)\n",
        "x1, x2, x3, x4 = x\n",
        "x2.value = 5\n",
        "x3.value = 5\n",
        "\n",
        "m.Equation(np.prod(x) >= 25)\n",
        "m.Equation(np.sum([x[i]**2 for i in range(4)]) == 40)\n",
        "m.Minimize(x1 * x4 * (x1 + x2 + x3) + x3)\n",
        "m.options.IMODE = 3\n",
        "m.solve(disp = False)\n",
        "\n",
        "print('Results')\n",
        "print(f'x1: {x1.value[0]}')\n",
        "print(f'x2: {x2.value[0]}')\n",
        "print(f'x3: {x3.value[0]}')\n",
        "print(f'x4: {x4.value[0]}')\n",
        "print(f'Objective: {m.options.objfcnval}')"
      ]
    },
    {
      "cell_type": "markdown",
      "metadata": {
        "id": "7qxtivv-O74U"
      },
      "source": [
        "\n",
        "## 10: Mixed Integer Nonlinear Programming"
      ]
    },
    {
      "cell_type": "code",
      "execution_count": 11,
      "metadata": {
        "colab": {
          "base_uri": "https://localhost:8080/"
        },
        "id": "uwuS65xNO74U",
        "outputId": "a9e1fdb6-2d20-43a3-808c-50ce8a6a17fe"
      },
      "outputs": [
        {
          "output_type": "stream",
          "name": "stdout",
          "text": [
            "Results\n",
            "x1: 2.0\n",
            "x2: 4.0\n",
            "x3: 4.0\n",
            "x4: 2.0\n",
            "Objective: 44.0\n"
          ]
        }
      ],
      "source": [
        "m = GEKKO()\n",
        "\n",
        "x = m.Array(m.Var, 4, value = 1, lb = 1, ub = 5, integer = True)\n",
        "x1, x2, x3, x4 = x\n",
        "x2.value = 5\n",
        "x3.value = 5\n",
        "\n",
        "m.Equation(np.prod(x) >= 25)\n",
        "m.Equation(np.sum([x[i]**2 for i in range(4)]) == 40)\n",
        "m.Minimize(x1 * x4 * (x1 + x2 + x3) + x3)\n",
        "m.options.SOLVER = 1\n",
        "m.solve(disp = False)\n",
        "\n",
        "print('Results')\n",
        "print(f'x1: {x1.value[0]}')\n",
        "print(f'x2: {x2.value[0]}')\n",
        "print(f'x3: {x3.value[0]}')\n",
        "print(f'x4: {x4.value[0]}')\n",
        "print(f'Objective: {m.options.objfcnval}')"
      ]
    },
    {
      "cell_type": "markdown",
      "metadata": {
        "id": "s9E4MiiHO74U"
      },
      "source": [
        "## 11: Optimal Control with Integral Objective\n",
        "\n",
        "__Original Form__\n",
        "\n",
        "$\\min_u \\frac{1}{2} \\int_0^2 x_1^2(t) \\, dt$\n",
        "\n",
        "$\\mathrm{subject \\; to}$\n",
        "\n",
        "$\\frac{dx_1}{dt}=u$\n",
        "\n",
        "$x_1(0) = 1$\n",
        "\n",
        "$-1 \\le u(t) \\le 1$"
      ]
    },
    {
      "cell_type": "code",
      "execution_count": 23,
      "metadata": {
        "colab": {
          "base_uri": "https://localhost:8080/",
          "height": 302
        },
        "id": "aBY85vlyO74U",
        "outputId": "efa3781e-ba2e-4b26-8cfd-ead001a879de"
      },
      "outputs": [
        {
          "output_type": "stream",
          "name": "stdout",
          "text": [
            "14.249199878\n",
            "-5.1714825213e-11\n"
          ]
        },
        {
          "output_type": "display_data",
          "data": {
            "text/plain": [
              "<Figure size 432x288 with 1 Axes>"
            ],
            "image/png": "[encoded data removed]"
          },
          "metadata": {
            "needs_background": "light"
          }
        }
      ],
      "source": [
        "m = GEKKO()\n",
        "nt = 101\n",
        "m.time = np.linspace(0, 2, nt)\n",
        "x = m.Var(1)\n",
        "u = m.Var(0, lb = -1, ub = 1)\n",
        "\n",
        "m.Equation(x.dt() == u)\n",
        "m.Minimize(1/2 * m.integral(x**2))\n",
        "# m.option.NODES = 2\n",
        "m.options.IMODE = 6\n",
        "m.solve(disp = False)\n",
        "\n",
        "plt.plot(m.time, x.value)\n",
        "plt.plot(m.time, u)\n",
        "\n",
        "print(m.options.objfcnval)\n",
        "print(u[-1])"
      ]
    },
    {
      "cell_type": "markdown",
      "source": [
        "__Equivalent Form for GEKKO__\n",
        "\n",
        "$\\min_{u(t)} -J\\left(t_f\\right)$\n",
        "\n",
        "$\\mathrm{subject \\; to}$\n",
        "\n",
        "$\\frac{dx}{dt}=r \\, x(t) \\left(1-\\frac{x(t)}{k}\\right)-u \\, U_{max}$\n",
        "\n",
        "$\\frac{dJ}{dt} = \\left(E-\\frac{c}{x}\\right) u \\, U_{max}$\n",
        "\n",
        "$x(0) = 70$\n",
        "\n",
        "$J(0) = 0$\n",
        "\n",
        "$0 \\le u(t) \\le 1$\n",
        "\n",
        "$t_f = 10, \\, E=1, \\, c=17.5$\n",
        "\n",
        "$r=0.71, \\, k=80.5, \\, U_{max}=20$"
      ],
      "metadata": {
        "id": "DRvpaxyCanpw"
      }
    },
    {
      "cell_type": "markdown",
      "metadata": {
        "id": "ZXRpzfG8O74U"
      },
      "source": [
        "## 12: Optimal Control with Economic Objective\n",
        "\n",
        "__Original Form__\n",
        "\n",
        "$\\max_{u(t)} \\int_0^{10} \\left(E-\\frac{c}{x}\\right) u \\, U_{max} \\, dt$\n",
        "\n",
        "$\\mathrm{subject \\; to}$\n",
        "\n",
        "$\\frac{dx}{dt}=r \\, x(t) \\left(1-\\frac{x(t)}{k}\\right)-u \\, U_{max}$\n",
        "\n",
        "$x(0) = 70$\n",
        "\n",
        "$0 \\le u(t) \\le 1$\n",
        "\n",
        "$E=1, \\, c=17.5, \\, r=0.71$\n",
        "\n",
        "$k=80.5, \\, U_{max}=20$\n",
        "\n"
      ]
    },
    {
      "cell_type": "code",
      "execution_count": null,
      "metadata": {
        "id": "IOIm_qAPO74V"
      },
      "outputs": [],
      "source": [
        ""
      ]
    },
    {
      "cell_type": "markdown",
      "metadata": {
        "id": "A7l3wkcVO74V"
      },
      "source": [
        "## 13: Optimal Control: Minimize Final Time\n",
        "\n",
        "__Original Form__\n",
        "\n",
        "$\\min_{u(t)} \\; t_f$\n",
        "\n",
        "$\\mathrm{subject \\; to}$\n",
        "\n",
        "$\\frac{dx_1}{dt}=u$\n",
        "\n",
        "$\\frac{dx_2}{dt}=\\cos\\left(x_1(t)\\right)$\n",
        "\n",
        "$\\frac{dx_3}{dt}=\\sin\\left(x_1(t)\\right)$\n",
        "\n",
        "$x(0) = \\left[\\pi/2,4,0\\right]$\n",
        "\n",
        "$x_2\\left(t_f\\right)=0$\n",
        "\n",
        "$x_3\\left(t_f\\right)=0$\n",
        "\n",
        "$-2 \\le u(t) \\le 2$\n",
        "\n",
        "__Equivalent Form for GEKKO__\n",
        "\n",
        "$\\min_{u(t), t_f} \\; t_f$\n",
        "\n",
        "$\\mathrm{subject \\; to}$\n",
        "\n",
        "$\\frac{dx_1}{dt}=t_f \\, u$\n",
        "\n",
        "$\\frac{dx_2}{dt}=t_f \\, \\cos\\left(x_1(t)\\right)$\n",
        "\n",
        "$\\frac{dx_3}{dt}=t_f \\, \\sin\\left(x_1(t)\\right)$\n",
        "\n",
        "$x(0) = \\left[\\pi/2,4,0\\right]$\n",
        "\n",
        "$x_2\\left(t_f\\right)=0$\n",
        "\n",
        "$x_3\\left(t_f\\right)=0$\n",
        "\n",
        "$-2 \\le u(t) \\le 2$"
      ]
    },
    {
      "cell_type": "code",
      "execution_count": null,
      "metadata": {
        "id": "PRLy2Zu0O74V"
      },
      "outputs": [],
      "source": [
        ""
      ]
    },
    {
      "cell_type": "markdown",
      "metadata": {
        "id": "-uzPJoD2O74V"
      },
      "source": [
        "## 14: PID Control Tuning\n",
        "\n",
        "A [PID Controller](https://en.wikipedia.org/wiki/PID_controller) has proportional, integral, and derivative terms to determine the controller output ($OP$) based on the set point ($SP$) and process variable ($PV$). A standard PID form has constants $K_c$, $\\tau_I$, and $\\tau_D$.\n",
        "\n",
        "\n",
        "$err = SP-PV$\n",
        "\n",
        "$OP = OP_0 + K_c \\, err + \\frac{K_c}{\\tau_I} \\int err \\, dt - K_c \\, \\tau_D \\frac{d\\,PV}{dt}$ \n",
        "\n",
        "The effect of the tuning constants is shown with the [PID Tuning Notebook](http://nbviewer.jupyter.org/url/apmonitor.com/pdc/uploads/Main/pid_widget.ipynb). This example is an alternative implementation in GEKKO."
      ]
    },
    {
      "cell_type": "code",
      "execution_count": null,
      "metadata": {
        "id": "TeSJlQtwO74W"
      },
      "outputs": [],
      "source": [
        ""
      ]
    },
    {
      "cell_type": "markdown",
      "metadata": {
        "id": "TRbbsB5_O74W"
      },
      "source": [
        "## 15: Process Simulator"
      ]
    },
    {
      "cell_type": "code",
      "execution_count": null,
      "metadata": {
        "id": "wQm6-CFDO74W"
      },
      "outputs": [],
      "source": [
        ""
      ]
    },
    {
      "cell_type": "markdown",
      "metadata": {
        "id": "WjxAP6ttO74W"
      },
      "source": [
        "## 16: Moving Horizon Estimation\n",
        "\n",
        "Run the Process Simulation cell above to generate the data. The MHE application uses a first order model while the process simulation is a second order system. This is done to emulate a realistic case with model mismatch and measurement noise.\n",
        "\n",
        "This demonstrates just one cycle of an MHE application. Typical MHE applications receive an additional measurements, re-optimize parameters and states, and re-inject the parameters into a controller. "
      ]
    },
    {
      "cell_type": "code",
      "execution_count": null,
      "metadata": {
        "id": "ZkRMKN-bO74W"
      },
      "outputs": [],
      "source": [
        ""
      ]
    },
    {
      "cell_type": "markdown",
      "metadata": {
        "id": "7xtohf5pO74W"
      },
      "source": [
        "## 17: Model Predictive Control"
      ]
    },
    {
      "cell_type": "code",
      "execution_count": null,
      "metadata": {
        "id": "FagSBG-KO74X"
      },
      "outputs": [],
      "source": [
        ""
      ]
    },
    {
      "cell_type": "markdown",
      "metadata": {
        "id": "Y-OCzzMEO74X"
      },
      "source": [
        "## 18: Debugging Resources\n",
        "\n",
        "Applications may need a more detailed inspection to find errors in programming syntax, errors in modeling assumptions, or to generate good initial guess values. The GEKKO or the solver solution reports syntax errors. Setting m.solve(disp=True) displays the solver output with a message on the line of code that is unsuccessful. Naming the variables such as name='state' is helpful to display the equations in a readable form.\n",
        "\n",
        "Other strategies for obtaining a successful solution include:\n",
        "\n",
        "* Increase the number of iterations with MAX_ITER (0-1000+)\n",
        "* Increase the diagnostic level with DIAGLEVEL (0-10)\n",
        "* Change the solver with SOLVER (1-5)\n",
        "* Calculate model SENSITIVITY (1)\n",
        "* Solve a square problem with # Variables = # Equations\n",
        "* Set COLDSTART to initialize problem (0-2)\n",
        "\n",
        "Additional [modeling](http://apmonitor.com/do/index.php/Main/ModelFormulation), [initialization](http://apmonitor.com/do/index.php/Main/ModelInitialization), and [decomposition](https://www.sciencedirect.com/science/article/pii/S0098135415001179) tips may be helpful. There is also an online [discussion group](http://apmonitor.com/wiki/index.php/Main/UsersGroup), [video playlist](https://www.youtube.com/playlist?list=PLLBUgWXdTBDjcqDl2e5F_hcBjEc6vjr1X), [GEKKO documentation](http://gekko.readthedocs.io/en/latest/), and [APMonitor documentation](http://apmonitor.com/wiki/index.php/Main/HomePage) as additional resources."
      ]
    },
    {
      "cell_type": "code",
      "execution_count": null,
      "metadata": {
        "id": "RTUJ4X-cO74X"
      },
      "outputs": [],
      "source": [
        ""
      ]
    }
  ],
  "metadata": {
    "kernelspec": {
      "display_name": "Python 3",
      "language": "python",
      "name": "python3"
    },
    "language_info": {
      "codemirror_mode": {
        "name": "ipython",
        "version": 3
      },
      "file_extension": ".py",
      "mimetype": "text/x-python",
      "name": "python",
      "nbconvert_exporter": "python",
      "pygments_lexer": "ipython3",
      "version": "3.8.5"
    },
    "colab": {
      "name": "gekko_18examples.ipynb",
      "provenance": [],
      "include_colab_link": true
    }
  },
  "nbformat": 4,
  "nbformat_minor": 0
}