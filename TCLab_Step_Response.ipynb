{
  "cells": [
    {
      "cell_type": "markdown",
      "metadata": {
        "id": "view-in-github",
        "colab_type": "text"
      },
      "source": [
        "<a href=\"https://colab.research.google.com/github/hoonzi-s/data_science/blob/master/TCLab_Step_Response.ipynb\" target=\"_parent\"><img src=\"https://colab.research.google.com/assets/colab-badge.svg\" alt=\"Open In Colab\"/></a>"
      ]
    },
    {
      "cell_type": "code",
      "execution_count": 49,
      "id": "01f25715",
      "metadata": {
        "id": "01f25715",
        "outputId": "c387042a-0888-4f0b-e781-9ace42a90601",
        "colab": {
          "base_uri": "https://localhost:8080/"
        }
      },
      "outputs": [
        {
          "output_type": "stream",
          "name": "stdout",
          "text": [
            "Looking in indexes: https://pypi.org/simple, https://us-python.pkg.dev/colab-wheels/public/simple/\n",
            "Requirement already satisfied: TCLab in /usr/local/lib/python3.7/dist-packages (0.4.9)\n",
            "Requirement already satisfied: pyserial in /usr/local/lib/python3.7/dist-packages (from TCLab) (3.5)\n",
            "Looking in indexes: https://pypi.org/simple, https://us-python.pkg.dev/colab-wheels/public/simple/\n",
            "Collecting gekko\n",
            "  Downloading gekko-1.0.4-py3-none-any.whl (14.1 MB)\n",
            "\u001b[K     |████████████████████████████████| 14.1 MB 7.5 MB/s \n",
            "\u001b[?25hRequirement already satisfied: numpy>=1.8 in /usr/local/lib/python3.7/dist-packages (from gekko) (1.21.6)\n",
            "Installing collected packages: gekko\n",
            "Successfully installed gekko-1.0.4\n"
          ]
        }
      ],
      "source": [
        "!pip install TCLab\n",
        "!pip install gekko"
      ]
    },
    {
      "cell_type": "code",
      "execution_count": 50,
      "id": "3a27df49",
      "metadata": {
        "id": "3a27df49"
      },
      "outputs": [],
      "source": [
        "import tclab\n",
        "import time\n",
        "import numpy as np\n",
        "import matplotlib.pyplot as plt\n",
        "from gekko import GEKKO"
      ]
    },
    {
      "cell_type": "code",
      "source": [
        "lab = tclab.TCLabModel()"
      ],
      "metadata": {
        "colab": {
          "base_uri": "https://localhost:8080/"
        },
        "id": "7UzY3p3a4BC_",
        "outputId": "7ce6a2da-ebcd-4a3b-cf36-74cf8f8d5a04"
      },
      "id": "7UzY3p3a4BC_",
      "execution_count": 16,
      "outputs": [
        {
          "output_type": "stream",
          "name": "stdout",
          "text": [
            "TCLab version 0.4.9\n",
            "Simulated TCLab\n"
          ]
        }
      ]
    },
    {
      "cell_type": "code",
      "source": [
        "lab.LED(0)"
      ],
      "metadata": {
        "colab": {
          "base_uri": "https://localhost:8080/"
        },
        "id": "Fe6VjMyS4I7I",
        "outputId": "89595bc6-8854-4325-8515-51771d965fbc"
      },
      "id": "Fe6VjMyS4I7I",
      "execution_count": 23,
      "outputs": [
        {
          "output_type": "execute_result",
          "data": {
            "text/plain": [
              "0"
            ]
          },
          "metadata": {},
          "execution_count": 23
        }
      ]
    },
    {
      "cell_type": "code",
      "source": [
        "lab.T1"
      ],
      "metadata": {
        "colab": {
          "base_uri": "https://localhost:8080/"
        },
        "id": "wv1zysgs4Rmv",
        "outputId": "bde59832-8178-4781-c983-a5e0621b3295"
      },
      "id": "wv1zysgs4Rmv",
      "execution_count": 24,
      "outputs": [
        {
          "output_type": "execute_result",
          "data": {
            "text/plain": [
              "45.122"
            ]
          },
          "metadata": {},
          "execution_count": 24
        }
      ]
    },
    {
      "cell_type": "code",
      "source": [
        "lab.Q1(0)"
      ],
      "metadata": {
        "colab": {
          "base_uri": "https://localhost:8080/"
        },
        "id": "A-XNaBWE76_5",
        "outputId": "29eefe70-a914-413c-85ae-7db42e72c967"
      },
      "id": "A-XNaBWE76_5",
      "execution_count": 25,
      "outputs": [
        {
          "output_type": "execute_result",
          "data": {
            "text/plain": [
              "0"
            ]
          },
          "metadata": {},
          "execution_count": 25
        }
      ]
    },
    {
      "cell_type": "code",
      "source": [
        "for i in range(10):\n",
        "  time.sleep(1)\n",
        "  print(lab.T1)"
      ],
      "metadata": {
        "colab": {
          "base_uri": "https://localhost:8080/"
        },
        "id": "8ZegAEqO79GR",
        "outputId": "68de2556-34be-42f7-ccfa-b078914fc781"
      },
      "id": "8ZegAEqO79GR",
      "execution_count": 28,
      "outputs": [
        {
          "output_type": "stream",
          "name": "stdout",
          "text": [
            "44.1551\n",
            "44.1551\n",
            "44.1551\n",
            "43.8328\n",
            "43.8328\n",
            "43.51049999999999\n",
            "43.51049999999999\n",
            "43.51049999999999\n",
            "43.188199999999995\n",
            "43.188199999999995\n"
          ]
        }
      ]
    },
    {
      "cell_type": "code",
      "source": [
        "lab.close()"
      ],
      "metadata": {
        "colab": {
          "base_uri": "https://localhost:8080/"
        },
        "id": "DOMbBZR18bvB",
        "outputId": "fc55ba58-eeb8-4228-f195-a877723d1cc8"
      },
      "id": "DOMbBZR18bvB",
      "execution_count": 29,
      "outputs": [
        {
          "output_type": "stream",
          "name": "stdout",
          "text": [
            "TCLab Model disconnected successfully.\n"
          ]
        }
      ]
    },
    {
      "cell_type": "code",
      "source": [
        "t = np.linspace(0, 300, 301)\n",
        "Q1 = np.zeros(301)\n",
        "Q1[10:100] = 70\n",
        "Q1[100:200] = 30\n",
        "Q1[200:300] = 80\n",
        "T1 = np.empty_like(t)\n",
        "\n",
        "with tclab.TCLabModel() as lab:\n",
        "  for i in range(300):\n",
        "    time.sleep(0.1)\n",
        "    lab.Q1(Q1[i])\n",
        "    T1[i] = lab.T1\n",
        "    if i % 10 == 0:\n",
        "      print(round(T1[i], 3))\n",
        "    # print(T1[i])"
      ],
      "metadata": {
        "colab": {
          "base_uri": "https://localhost:8080/"
        },
        "id": "pQ3uTbGf9SsZ",
        "outputId": "3989a2c6-d729-406c-bbee-1b51813b752c"
      },
      "id": "pQ3uTbGf9SsZ",
      "execution_count": 45,
      "outputs": [
        {
          "output_type": "stream",
          "name": "stdout",
          "text": [
            "TCLab version 0.4.9\n",
            "Simulated TCLab\n",
            "20.949\n",
            "20.949\n",
            "20.949\n",
            "20.949\n",
            "20.949\n",
            "20.949\n",
            "20.949\n",
            "20.949\n",
            "20.949\n",
            "21.272\n",
            "21.594\n",
            "21.594\n",
            "21.594\n",
            "21.594\n",
            "21.916\n",
            "21.916\n",
            "22.239\n",
            "22.239\n",
            "22.561\n",
            "22.561\n",
            "22.561\n",
            "22.883\n",
            "22.883\n",
            "22.883\n",
            "23.206\n",
            "23.206\n",
            "23.528\n",
            "23.528\n",
            "23.85\n",
            "24.172\n",
            "TCLab Model disconnected successfully.\n"
          ]
        }
      ]
    },
    {
      "cell_type": "code",
      "source": [
        "plt.subplot(2, 1, 1)\n",
        "plt.plot(t, T1, 'r--', label = 'T1')\n",
        "plt.legend()\n",
        "plt.subplot(2, 1, 2)\n",
        "plt.plot(t, Q1)"
      ],
      "metadata": {
        "colab": {
          "base_uri": "https://localhost:8080/",
          "height": 283
        },
        "id": "hi-pyip29o0o",
        "outputId": "7566efd9-22e9-464c-89aa-28dee309862a"
      },
      "id": "hi-pyip29o0o",
      "execution_count": 47,
      "outputs": [
        {
          "output_type": "execute_result",
          "data": {
            "text/plain": [
              "[<matplotlib.lines.Line2D at 0x7fb98f583290>]"
            ]
          },
          "metadata": {},
          "execution_count": 47
        },
        {
          "output_type": "display_data",
          "data": {
            "text/plain": [
              "<Figure size 432x288 with 2 Axes>"
            ],
            "image/png": "[encoded data removed]"
          },
          "metadata": {
            "needs_background": "light"
          }
        }
      ]
    },
    {
      "cell_type": "code",
      "source": [
        "m = GEKKO()\n",
        "m.time = t\n",
        "T = m.Var(T1[0])\n",
        "Q = m.Param(Q1)\n",
        "\n",
        "Cp = 500\n",
        "A = 1.2e-3\n",
        "mass = 0.004\n",
        "U = 10\n",
        "eps = 0.9\n",
        "sigma = 5.67e-8\n",
        "Tinf = 296.15\n",
        "TK = T + 273.15\n",
        "\n",
        "m.Equation(mass * Cp * T.dt() == U * A * (Tinf - T) + eps * sigma * A * (Tinf **4 - TK**4) + Q])\n",
        "\n",
        "m.options.IMODE = 4\n",
        "m.solve()"
      ],
      "metadata": {
        "colab": {
          "base_uri": "https://localhost:8080/",
          "height": 137
        },
        "id": "ml6jnEhuLjBB",
        "outputId": "35fc084a-037c-47c0-f8b3-8a231a6da15b"
      },
      "id": "ml6jnEhuLjBB",
      "execution_count": 51,
      "outputs": [
        {
          "output_type": "error",
          "ename": "SyntaxError",
          "evalue": "ignored",
          "traceback": [
            "\u001b[0;36m  File \u001b[0;32m\"<ipython-input-51-68c4f23c32a6>\"\u001b[0;36m, line \u001b[0;32m15\u001b[0m\n\u001b[0;31m    m.Equation(mass * Cp * T.dt() == U * A * (Tinf-T) + eps * sigma * A * (Tinf **4 - TK**4) + Q])\u001b[0m\n\u001b[0m                                                                                                ^\u001b[0m\n\u001b[0;31mSyntaxError\u001b[0m\u001b[0;31m:\u001b[0m invalid syntax\n"
          ]
        }
      ]
    },
    {
      "cell_type": "code",
      "source": [
        ""
      ],
      "metadata": {
        "id": "K3adih90NJFE"
      },
      "id": "K3adih90NJFE",
      "execution_count": null,
      "outputs": []
    }
  ],
  "metadata": {
    "kernelspec": {
      "display_name": "Python 3 (ipykernel)",
      "language": "python",
      "name": "python3"
    },
    "language_info": {
      "codemirror_mode": {
        "name": "ipython",
        "version": 3
      },
      "file_extension": ".py",
      "mimetype": "text/x-python",
      "name": "python",
      "nbconvert_exporter": "python",
      "pygments_lexer": "ipython3",
      "version": "3.9.7"
    },
    "colab": {
      "name": "00. Untitled.ipynb",
      "provenance": [],
      "include_colab_link": true
    }
  },
  "nbformat": 4,
  "nbformat_minor": 5
}